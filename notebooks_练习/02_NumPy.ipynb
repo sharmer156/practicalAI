{
  "nbformat": 4,
  "nbformat_minor": 0,
  "metadata": {
    "colab": {
      "name": "02_NumPy",
      "version": "0.3.2",
      "provenance": [],
      "collapsed_sections": [],
      "toc_visible": true,
      "include_colab_link": true
    },
    "kernelspec": {
      "name": "python3",
      "display_name": "Python 3"
    }
  },
  "cells": [
    {
      "cell_type": "markdown",
      "metadata": {
        "id": "view-in-github",
        "colab_type": "text"
      },
      "source": [
        "<a href=\"https://colab.research.google.com/github/sharmer156/practicalAI/blob/master/notebooks_%E7%BB%83%E4%B9%A0/02_NumPy.ipynb\" target=\"_parent\"><img src=\"https://colab.research.google.com/assets/colab-badge.svg\" alt=\"Open In Colab\"/></a>"
      ]
    },
    {
      "metadata": {
        "id": "bOChJSNXtC9g",
        "colab_type": "text"
      },
      "cell_type": "markdown",
      "source": [
        "# NumPy"
      ]
    },
    {
      "metadata": {
        "id": "OLIxEDq6VhvZ",
        "colab_type": "text"
      },
      "cell_type": "markdown",
      "source": [
        "<img src=\"https://raw.githubusercontent.com/GokuMohandas/practicalAI/master/images/logo.png\" width=150>\n",
        "\n",
        "In this lesson we will learn the basics of numerical analysis using the NumPy package.\n",
        "\n",
        "<img src=\"https://raw.githubusercontent.com/GokuMohandas/practicalAI/master/images/numpy.png\" width=300>\n",
        "\n",
        "\n"
      ]
    },
    {
      "metadata": {
        "id": "VoMq0eFRvugb",
        "colab_type": "text"
      },
      "cell_type": "markdown",
      "source": [
        "# NumPy basics"
      ]
    },
    {
      "metadata": {
        "id": "0-dXQiLlTIgz",
        "colab_type": "code",
        "colab": {}
      },
      "cell_type": "code",
      "source": [
        "import numpy as np"
      ],
      "execution_count": 0,
      "outputs": []
    },
    {
      "metadata": {
        "id": "bhaOPJV7WA0m",
        "colab_type": "code",
        "colab": {}
      },
      "cell_type": "code",
      "source": [
        "# Set seed for reproducibility\n",
        "np.random.seed(seed=1234)"
      ],
      "execution_count": 0,
      "outputs": []
    },
    {
      "metadata": {
        "id": "23tSlin9aWZ8",
        "colab_type": "code",
        "outputId": "25cdb273-b7b3-4dd7-e5e3-5dbc003b80af",
        "colab": {
          "base_uri": "https://localhost:8080/",
          "height": 102
        }
      },
      "cell_type": "code",
      "source": [
        "# Scalars\n",
        "x = np.array(6) # scalar\n",
        "print (\"x: \", x)\n",
        "# Number of dimensions\n",
        "print (\"x ndim: \", x.ndim)\n",
        "# Dimensions\n",
        "print (\"x shape:\", x.shape)\n",
        "# Size of elements\n",
        "print (\"x size: \", x.size)\n",
        "# Data type\n",
        "print (\"x dtype: \", x.dtype)"
      ],
      "execution_count": 3,
      "outputs": [
        {
          "output_type": "stream",
          "text": [
            "x:  6\n",
            "x ndim:  0\n",
            "x shape: ()\n",
            "x size:  1\n",
            "x dtype:  int64\n"
          ],
          "name": "stdout"
        }
      ]
    },
    {
      "metadata": {
        "id": "ugIZprdIabFF",
        "colab_type": "code",
        "outputId": "e1d2c0e0-a1d0-41df-a94c-2b56b4988473",
        "colab": {
          "base_uri": "https://localhost:8080/",
          "height": 119
        }
      },
      "cell_type": "code",
      "source": [
        "# 1-D Array\n",
        "x = np.array([1.3 , 2.2 , 1.7])\n",
        "print (\"x: \", x)\n",
        "print (\"x ndim: \", x.ndim)\n",
        "print (\"x shape:\", x.shape)\n",
        "print (\"x size: \", x.size)\n",
        "print (\"x dtype: \", x.dtype) # notice the float datatype\n",
        "\n",
        "print (type(x))"
      ],
      "execution_count": 5,
      "outputs": [
        {
          "output_type": "stream",
          "text": [
            "x:  [1.3 2.2 1.7]\n",
            "x ndim:  1\n",
            "x shape: (3,)\n",
            "x size:  3\n",
            "x dtype:  float64\n",
            "<class 'numpy.ndarray'>\n"
          ],
          "name": "stdout"
        }
      ]
    },
    {
      "metadata": {
        "id": "PdRw2sWRYYo0",
        "colab_type": "code",
        "colab": {
          "base_uri": "https://localhost:8080/",
          "height": 136
        },
        "outputId": "16681256-985b-4ffb-c68c-4b2f05338bac"
      },
      "cell_type": "code",
      "source": [
        "# 2-D Array\n",
        "x = np.array([[1.3 , 2.2 , 1.7],[1.3 , 2.2 , 1.7]])\n",
        "print (\"x: \", x)\n",
        "print (\"x ndim: \", x.ndim)\n",
        "print (\"x shape:\", x.shape)\n",
        "print (\"x size: \", x.size)\n",
        "print (\"x dtype: \", x.dtype) # notice the float datatype\n",
        "\n",
        "print (type(x))"
      ],
      "execution_count": 6,
      "outputs": [
        {
          "output_type": "stream",
          "text": [
            "x:  [[1.3 2.2 1.7]\n",
            " [1.3 2.2 1.7]]\n",
            "x ndim:  2\n",
            "x shape: (2, 3)\n",
            "x size:  6\n",
            "x dtype:  float64\n",
            "<class 'numpy.ndarray'>\n"
          ],
          "name": "stdout"
        }
      ]
    },
    {
      "metadata": {
        "id": "SQI-T_4MbE9J",
        "colab_type": "code",
        "outputId": "da0c88bb-c9fe-4369-9e95-a72bff97181d",
        "colab": {
          "base_uri": "https://localhost:8080/",
          "height": 153
        }
      },
      "cell_type": "code",
      "source": [
        "# 3-D array (matrix)\n",
        "x = np.array([[[1,2,3], [4,5,6], [7,8,9]]])\n",
        "print (\"x:\\n\", x)\n",
        "print (\"x ndim: \", x.ndim)\n",
        "print (\"x shape:\", x.shape)\n",
        "print (\"x size: \", x.size)\n",
        "print (\"x dtype: \", x.dtype)"
      ],
      "execution_count": 7,
      "outputs": [
        {
          "output_type": "stream",
          "text": [
            "x:\n",
            " [[[1 2 3]\n",
            "  [4 5 6]\n",
            "  [7 8 9]]]\n",
            "x ndim:  3\n",
            "x shape: (1, 3, 3)\n",
            "x size:  9\n",
            "x dtype:  int64\n"
          ],
          "name": "stdout"
        }
      ]
    },
    {
      "metadata": {
        "id": "z2Qf8EKZln9j",
        "colab_type": "code",
        "outputId": "26d023cb-461d-4499-da15-8ebfbd8918ba",
        "colab": {
          "base_uri": "https://localhost:8080/",
          "height": 221
        }
      },
      "cell_type": "code",
      "source": [
        "# Functions\n",
        "print (\"np.zeros((2,2)):\\n\", np.zeros((2,2)))\n",
        "print (\"np.ones((2,2)):\\n\", np.ones((2,2)))\n",
        "print (\"np.eye((2)):\\n\", np.eye((2)))\n",
        "print (\"np.random.random((2,2)):\\n\", np.random.random((2,2)))"
      ],
      "execution_count": 8,
      "outputs": [
        {
          "output_type": "stream",
          "text": [
            "np.zeros((2,2)):\n",
            " [[0. 0.]\n",
            " [0. 0.]]\n",
            "np.ones((2,2)):\n",
            " [[1. 1.]\n",
            " [1. 1.]]\n",
            "np.eye((2)):\n",
            " [[1. 0.]\n",
            " [0. 1.]]\n",
            "np.random.random((2,2)):\n",
            " [[0.19151945 0.62210877]\n",
            " [0.43772774 0.78535858]]\n"
          ],
          "name": "stdout"
        }
      ]
    },
    {
      "metadata": {
        "id": "gNb1fu2uZQV9",
        "colab_type": "code",
        "colab": {
          "base_uri": "https://localhost:8080/",
          "height": 170
        },
        "outputId": "fcb7e097-7162-441a-e279-3dd80fc92560"
      },
      "cell_type": "code",
      "source": [
        "print (\"np.ones((3,2)):\\n\", np.ones((3,2)))\n",
        "print (\"np.eye((4)):\\n\", np.eye((4)))"
      ],
      "execution_count": 9,
      "outputs": [
        {
          "output_type": "stream",
          "text": [
            "np.ones((3,2)):\n",
            " [[1. 1.]\n",
            " [1. 1.]\n",
            " [1. 1.]]\n",
            "np.eye((4)):\n",
            " [[1. 0. 0. 0.]\n",
            " [0. 1. 0. 0.]\n",
            " [0. 0. 1. 0.]\n",
            " [0. 0. 0. 1.]]\n"
          ],
          "name": "stdout"
        }
      ]
    },
    {
      "metadata": {
        "id": "qVD-MCiCdcV9",
        "colab_type": "text"
      },
      "cell_type": "markdown",
      "source": [
        "# Indexing 索引"
      ]
    },
    {
      "metadata": {
        "id": "vyt36kFOcVDX",
        "colab_type": "code",
        "outputId": "3a313819-c8a9-4943-c4c5-66292d6821f4",
        "colab": {
          "base_uri": "https://localhost:8080/",
          "height": 51
        }
      },
      "cell_type": "code",
      "source": [
        "# Indexing\n",
        "x = np.array([1, 2, 3])\n",
        "print (\"x[0]: \", x[0])\n",
        "x[0] = 0\n",
        "print (\"x: \", x)"
      ],
      "execution_count": 10,
      "outputs": [
        {
          "output_type": "stream",
          "text": [
            "x[0]:  1\n",
            "x:  [0 2 3]\n"
          ],
          "name": "stdout"
        }
      ]
    },
    {
      "metadata": {
        "id": "qxHww0didni6",
        "colab_type": "code",
        "outputId": "261a2524-8803-4524-a489-d5f312f9213e",
        "colab": {
          "base_uri": "https://localhost:8080/",
          "height": 187
        }
      },
      "cell_type": "code",
      "source": [
        "# Slicing 剖切 \n",
        "x = np.array([[1,2,3,4], [5,6,7,8], [9,10,11,12]])\n",
        "print (x)\n",
        "print (\"x column 1: \", x[:, 1]) \n",
        "print (\"x row 0: \", x[0, :]) \n",
        "print (\"x rows 0,1,2 & cols 1,2: \\n\", x[:3, 1:3]) \n",
        "print (\"x dtype: \", x.dtype)"
      ],
      "execution_count": 15,
      "outputs": [
        {
          "output_type": "stream",
          "text": [
            "[[ 1  2  3  4]\n",
            " [ 5  6  7  8]\n",
            " [ 9 10 11 12]]\n",
            "x column 1:  [ 2  6 10]\n",
            "x row 0:  [1 2 3 4]\n",
            "x rows 0,1,2 & cols 1,2: \n",
            " [[ 2  3]\n",
            " [ 6  7]\n",
            " [10 11]]\n",
            "x dtype:  int64\n"
          ],
          "name": "stdout"
        }
      ]
    },
    {
      "metadata": {
        "id": "A52pzB9idyDE",
        "colab_type": "code",
        "outputId": "6661551a-9e5c-42a7-b70b-89017b4da92a",
        "colab": {
          "base_uri": "https://localhost:8080/",
          "height": 187
        }
      },
      "cell_type": "code",
      "source": [
        "# Integer array indexing 整数数组索引\n",
        "print (x)\n",
        "rows_to_get = np.arange(len(x))\n",
        "print(len(x))\n",
        "print (\"rows_to_get: \", rows_to_get)\n",
        "cols_to_get = np.array([0, 2, 1])\n",
        "print (\"cols_to_get: \", cols_to_get)\n",
        "print (\"indexed values: \", x[rows_to_get, cols_to_get])\n",
        "print (\"rows_to_get dtype: \", rows_to_get.dtype)\n",
        "print (cols_to_get)\n",
        "print (\"cols_to_get: \", cols_to_get.dtype)\n"
      ],
      "execution_count": 19,
      "outputs": [
        {
          "output_type": "stream",
          "text": [
            "[[ 1  2  3  4]\n",
            " [ 5  6  7  8]\n",
            " [ 9 10 11 12]]\n",
            "3\n",
            "rows_to_get:  [0 1 2]\n",
            "cols_to_get:  [0 2 1]\n",
            "indexed values:  [ 1  7 10]\n",
            "rows_to_get dtype:  int64\n",
            "[0 2 1]\n",
            "cols_to_get:  int64\n"
          ],
          "name": "stdout"
        }
      ]
    },
    {
      "metadata": {
        "id": "_R7O5WsVfDij",
        "colab_type": "code",
        "outputId": "7f5f2a67-3110-44b0-a5c4-64be5733d0f4",
        "colab": {
          "base_uri": "https://localhost:8080/",
          "height": 187
        }
      },
      "cell_type": "code",
      "source": [
        "# Boolean array indexing\n",
        "x = np.array([[1,2], [3, 4], [5, 6]])\n",
        "print (\"x:\\n\", x)\n",
        "print (\"x > 2:\\n\", x > 2)\n",
        "print (\"x[x > 2]:\\n\", x[x > 2])"
      ],
      "execution_count": 20,
      "outputs": [
        {
          "output_type": "stream",
          "text": [
            "x:\n",
            " [[1 2]\n",
            " [3 4]\n",
            " [5 6]]\n",
            "x > 2:\n",
            " [[False False]\n",
            " [ True  True]\n",
            " [ True  True]]\n",
            "x[x > 2]:\n",
            " [3 4 5 6]\n"
          ],
          "name": "stdout"
        }
      ]
    },
    {
      "metadata": {
        "id": "77RCjrQ8gvYW",
        "colab_type": "text"
      },
      "cell_type": "markdown",
      "source": [
        "# Array math 阵列数学"
      ]
    },
    {
      "metadata": {
        "id": "1UJVcNCLfFrV",
        "colab_type": "code",
        "outputId": "4284fa79-10e7-428a-f30e-7a59a16cf510",
        "colab": {
          "base_uri": "https://localhost:8080/",
          "height": 170
        }
      },
      "cell_type": "code",
      "source": [
        "# Basic math基本运算\n",
        "x = np.array([[1,2], [3,4]], dtype=np.float64)\n",
        "y = np.array([[1,2], [3,4]], dtype=np.float64)\n",
        "print (\"x + y:\\n\", np.add(x, y)) # or x + y\n",
        "print (\"x - y:\\n\", np.subtract(x, y)) # or x - y\n",
        "print (\"x * y:\\n\", np.multiply(x, y)) # or x * y"
      ],
      "execution_count": 0,
      "outputs": [
        {
          "output_type": "stream",
          "text": [
            "x + y:\n",
            " [[2. 4.]\n",
            " [6. 8.]]\n",
            "x - y:\n",
            " [[0. 0.]\n",
            " [0. 0.]]\n",
            "x * y:\n",
            " [[ 1.  4.]\n",
            " [ 9. 16.]]\n"
          ],
          "name": "stdout"
        }
      ]
    },
    {
      "metadata": {
        "id": "1BV0nSIliMC6",
        "colab_type": "text"
      },
      "cell_type": "markdown",
      "source": [
        "<img src=\"https://raw.githubusercontent.com/GokuMohandas/practicalAI/master/images/matrix.png\" width=400>\n",
        "\n",
        "# 应用\n",
        "\n",
        "\n",
        "\n",
        "\n",
        "\n",
        "向量内积是人工智能领域中的神经网络技术的数学基础之一。\n",
        "\n",
        "此方法被用于动画渲染（Animation-Rendering）。\n",
        "\n",
        "*   物理学中力学的力做功的问题，经常用到点积计算。\n",
        "*  计算机图形学常用进行方向性判断，如两向量点积大于0，则它们的方向朝向相近；如小于0，则方向相反。\n",
        "*  向量内积是人工智能领域中的神经网络技术的数学基础之一。\n",
        "* 此方法被用于动画渲染（Animation-Rendering）。\n",
        "\n",
        "广义定义\n",
        "在一个向量空间V中，定義在 V*V上的正定对称双线性形式函數即是V的內積，而添加有一个数量积的向量空间即是内积空间\n"
      ]
    },
    {
      "metadata": {
        "id": "XyZVF6gXhTWd",
        "colab_type": "code",
        "outputId": "4a29924a-e4ca-4ceb-f8e1-58824b15ab89",
        "colab": {
          "base_uri": "https://localhost:8080/",
          "height": 51
        }
      },
      "cell_type": "code",
      "source": [
        "# Dot product 点积 https://zh.wikipedia.org/wiki/%E7%82%B9%E7%A7%AF\n",
        "\n",
        "a = np.array([[1,2,3], [4,5,6]], dtype=np.float64) # we can specify dtype\n",
        "b = np.array([[7,8], [9,10], [11, 12]], dtype=np.float64)\n",
        "print (a.dot(b))"
      ],
      "execution_count": 22,
      "outputs": [
        {
          "output_type": "stream",
          "text": [
            "[[ 58.  64.]\n",
            " [139. 154.]]\n"
          ],
          "name": "stdout"
        }
      ]
    },
    {
      "metadata": {
        "id": "7pB-H-7phsku",
        "colab_type": "code",
        "outputId": "e7a92800-637f-4183-98b3-7d13e94795cd",
        "colab": {
          "base_uri": "https://localhost:8080/",
          "height": 102
        }
      },
      "cell_type": "code",
      "source": [
        "# Sum across a dimension 维度和\n",
        "x = np.array([[1,2],[3,4]])\n",
        "print (x)\n",
        "print (\"sum all: \", np.sum(x)) # adds all elements\n",
        "print (\"sum by col: \", np.sum(x, axis=0)) # add numbers in each column\n",
        "print (\"sum by row: \", np.sum(x, axis=1)) # add numbers in each row"
      ],
      "execution_count": 23,
      "outputs": [
        {
          "output_type": "stream",
          "text": [
            "[[1 2]\n",
            " [3 4]]\n",
            "sum all:  10\n",
            "sum by col:  [4 6]\n",
            "sum by row:  [3 7]\n"
          ],
          "name": "stdout"
        }
      ]
    },
    {
      "metadata": {
        "id": "pLDG49LrijgA",
        "colab_type": "code",
        "outputId": "8c57eba5-5a56-4043-9baa-22ed4dca0cc7",
        "colab": {
          "base_uri": "https://localhost:8080/",
          "height": 119
        }
      },
      "cell_type": "code",
      "source": [
        "# Transposing 矩阵转置，类似表格中的横纵行调换\n",
        "print (\"x:\\n\", x)\n",
        "print (\"x.T:\\n\", x.T)"
      ],
      "execution_count": 24,
      "outputs": [
        {
          "output_type": "stream",
          "text": [
            "x:\n",
            " [[1 2]\n",
            " [3 4]]\n",
            "x.T:\n",
            " [[1 3]\n",
            " [2 4]]\n"
          ],
          "name": "stdout"
        }
      ]
    },
    {
      "metadata": {
        "id": "KdPKVKtwkWnw",
        "colab_type": "text"
      },
      "cell_type": "markdown",
      "source": [
        "# Advanced"
      ]
    },
    {
      "metadata": {
        "id": "U_j2fCcjkEyo",
        "colab_type": "code",
        "outputId": "f643e449-5618-43d7-f15e-e5f10e36af67",
        "colab": {
          "base_uri": "https://localhost:8080/",
          "height": 119
        }
      },
      "cell_type": "code",
      "source": [
        "# Tile 覆盖\n",
        "x = np.array([[1,2], [3,4]])\n",
        "y = np.array([5, 6])\n",
        "addent = np.tile(y, (len(x), 1))\n",
        "print (\"addent: \\n\", addent)\n",
        "z = x + addent\n",
        "print (\"z:\\n\", z)"
      ],
      "execution_count": 25,
      "outputs": [
        {
          "output_type": "stream",
          "text": [
            "addent: \n",
            " [[5 6]\n",
            " [5 6]]\n",
            "z:\n",
            " [[ 6  8]\n",
            " [ 8 10]]\n"
          ],
          "name": "stdout"
        }
      ]
    },
    {
      "metadata": {
        "id": "1NsoFVo0mfQ4",
        "colab_type": "code",
        "outputId": "3b2a830e-abcf-4e5d-e824-2b9ce142f166",
        "colab": {
          "base_uri": "https://localhost:8080/",
          "height": 68
        }
      },
      "cell_type": "code",
      "source": [
        "# Broadcasting\n",
        "x = np.array([[1,2], [3,4]])\n",
        "y = np.array([5, 6])\n",
        "z = x + y\n",
        "print (\"z:\\n\", z)"
      ],
      "execution_count": 0,
      "outputs": [
        {
          "output_type": "stream",
          "text": [
            "z:\n",
            " [[ 6  8]\n",
            " [ 8 10]]\n"
          ],
          "name": "stdout"
        }
      ]
    },
    {
      "metadata": {
        "id": "RdEHrnMTnO6k",
        "colab_type": "code",
        "outputId": "881c6cf7-bfc7-4c41-ad70-68cd01b20656",
        "colab": {
          "base_uri": "https://localhost:8080/",
          "height": 153
        }
      },
      "cell_type": "code",
      "source": [
        "# Reshaping\n",
        "x = np.array([[1,2], [3,4], [5,6]])\n",
        "print (x)\n",
        "print (\"x.shape: \", x.shape)\n",
        "y = np.reshape(x, (2, 3))\n",
        "print (\"y.shape: \", y.shape)\n",
        "print (\"y: \\n\", y)"
      ],
      "execution_count": 0,
      "outputs": [
        {
          "output_type": "stream",
          "text": [
            "[[1 2]\n",
            " [3 4]\n",
            " [5 6]]\n",
            "x.shape:  (3, 2)\n",
            "y.shape:  (2, 3)\n",
            "y: \n",
            " [[1 2 3]\n",
            " [4 5 6]]\n"
          ],
          "name": "stdout"
        }
      ]
    },
    {
      "metadata": {
        "id": "tE1BmoJuns70",
        "colab_type": "code",
        "outputId": "719b9e01-4428-4013-b413-d755d46a2e58",
        "colab": {
          "base_uri": "https://localhost:8080/",
          "height": 102
        }
      },
      "cell_type": "code",
      "source": [
        "# Removing dimensions降维\n",
        "x = np.array([[[1,2,1]],[[2,2,3]]])\n",
        "print (\"x.shape: \", x.shape)\n",
        "y = np.squeeze(x, 1) # squeeze dim 1\n",
        "print (\"y.shape: \", y.shape) \n",
        "print (\"y: \\n\", y)"
      ],
      "execution_count": 0,
      "outputs": [
        {
          "output_type": "stream",
          "text": [
            "x.shape:  (2, 1, 3)\n",
            "y.shape:  (2, 3)\n",
            "y: \n",
            " [[1 2 1]\n",
            " [2 2 3]]\n"
          ],
          "name": "stdout"
        }
      ]
    },
    {
      "metadata": {
        "id": "tVfWQEamkgy2",
        "colab_type": "code",
        "colab": {
          "base_uri": "https://localhost:8080/",
          "height": 357
        },
        "outputId": "ecb3da97-52c0-49f0-bf66-ec28cb14dae9"
      },
      "cell_type": "code",
      "source": [
        "x = np.array([[[[1,2,1]]],[[[2,2,3]]],[[[2,2,3]]]])\n",
        "y = np.squeeze(x, 1)\n",
        "\n",
        "print (\"x: \\n\", x)\n",
        "\n",
        "print (\"x.shape: \", x.shape)\n",
        "print (\"y.shape: \", y.shape) \n",
        "print (\"我们世界的维度: \", x.ndim)\n",
        "print (\"被二向箔攻击后的维度: \", y.ndim)\n",
        "\n",
        "print (\"y: \\n\", y)\n",
        "\n",
        "print('x.dtype',x.dtype)\n",
        "print('y.dtype',y.dtype)"
      ],
      "execution_count": 38,
      "outputs": [
        {
          "output_type": "stream",
          "text": [
            "x: \n",
            " [[[[1 2 1]]]\n",
            "\n",
            "\n",
            " [[[2 2 3]]]\n",
            "\n",
            "\n",
            " [[[2 2 3]]]]\n",
            "x.shape:  (3, 1, 1, 3)\n",
            "y.shape:  (3, 1, 3)\n",
            "我们世界的维度:  4\n",
            "被二向箔攻击后的维度:  3\n",
            "y: \n",
            " [[[1 2 1]]\n",
            "\n",
            " [[2 2 3]]\n",
            "\n",
            " [[2 2 3]]]\n",
            "x.dtype int64\n",
            "y.dtype int64\n"
          ],
          "name": "stdout"
        }
      ]
    },
    {
      "metadata": {
        "id": "LNYJRMF4qvXN",
        "colab_type": "code",
        "outputId": "be32eb32-2222-4178-fb52-4fc86d5f8df1",
        "colab": {
          "base_uri": "https://localhost:8080/",
          "height": 119
        }
      },
      "cell_type": "code",
      "source": [
        "# Adding dimensions\n",
        "x = np.array([[1,2,1],[2,2,3]])\n",
        "print (\"x.shape: \", x.shape)\n",
        "y = np.expand_dims(x, 1) # expand dim 1\n",
        "print (\"y.shape: \", y.shape) \n",
        "print (\"y: \\n\", y)"
      ],
      "execution_count": 0,
      "outputs": [
        {
          "output_type": "stream",
          "text": [
            "x.shape:  (2, 3)\n",
            "y.shape:  (2, 1, 3)\n",
            "y: \n",
            " [[[1 2 1]]\n",
            "\n",
            " [[2 2 3]]]\n"
          ],
          "name": "stdout"
        }
      ]
    },
    {
      "metadata": {
        "id": "XthM4y7SotAH",
        "colab_type": "text"
      },
      "cell_type": "markdown",
      "source": [
        "# Additional resources"
      ]
    },
    {
      "metadata": {
        "id": "3KmESFstrbFS",
        "colab_type": "text"
      },
      "cell_type": "markdown",
      "source": [
        "You don't have to memorize anything here and we will be taking a closer look at NumPy in the later lessons. If you are curious about more checkout the [NumPy reference manual](https://docs.scipy.org/doc/numpy-1.15.1/reference/)."
      ]
    }
  ]
}